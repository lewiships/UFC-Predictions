{
 "cells": [
  {
   "cell_type": "code",
   "execution_count": 1,
   "metadata": {},
   "outputs": [
    {
     "name": "stderr",
     "output_type": "stream",
     "text": [
      "/home/marcus/anaconda3/lib/python3.7/site-packages/dask/dataframe/utils.py:14: FutureWarning: pandas.util.testing is deprecated. Use the functions in the public API at pandas.testing instead.\n",
      "  import pandas.util.testing as tm\n"
     ]
    }
   ],
   "source": [
    "import pandas as pd\n",
    "import numpy as np\n",
    "import matplotlib.pyplot as plt\n",
    "import pickle\n",
    "from xgboost import XGBClassifier\n",
    "from sklearn.preprocessing import LabelEncoder\n",
    "import xgboost as xgb\n",
    "from sklearn.model_selection import train_test_split\n",
    "from sklearn.preprocessing import StandardScaler\n",
    "from sklearn.metrics import accuracy_score, classification_report,confusion_matrix, roc_auc_score\n",
    "from sklearn.utils.multiclass import unique_labels\n",
    "from sklearn.model_selection import GridSearchCV, RandomizedSearchCV\n",
    "import seaborn as sns\n",
    "\n",
    "%matplotlib inline\n"
   ]
  },
  {
   "cell_type": "code",
   "execution_count": 2,
   "metadata": {},
   "outputs": [],
   "source": "df = pd.read_csv('../src/data/preprocessed_data.csv')"
  },
  {
   "cell_type": "code",
   "execution_count": 3,
   "metadata": {},
   "outputs": [
    {
     "data": {
      "text/html": [
       "<div>\n",
       "<style scoped>\n",
       "    .dataframe tbody tr th:only-of-type {\n",
       "        vertical-align: middle;\n",
       "    }\n",
       "\n",
       "    .dataframe tbody tr th {\n",
       "        vertical-align: top;\n",
       "    }\n",
       "\n",
       "    .dataframe thead th {\n",
       "        text-align: right;\n",
       "    }\n",
       "</style>\n",
       "<table border=\"1\" class=\"dataframe\">\n",
       "  <thead>\n",
       "    <tr style=\"text-align: right;\">\n",
       "      <th></th>\n",
       "      <th>Winner</th>\n",
       "      <th>title_bout</th>\n",
       "      <th>B_avg_KD</th>\n",
       "      <th>B_avg_opp_KD</th>\n",
       "      <th>B_avg_SIG_STR_pct</th>\n",
       "      <th>B_avg_opp_SIG_STR_pct</th>\n",
       "      <th>B_avg_TD_pct</th>\n",
       "      <th>B_avg_opp_TD_pct</th>\n",
       "      <th>B_avg_SUB_ATT</th>\n",
       "      <th>B_avg_opp_SUB_ATT</th>\n",
       "      <th>...</th>\n",
       "      <th>B_Stance_Open Stance</th>\n",
       "      <th>B_Stance_Orthodox</th>\n",
       "      <th>B_Stance_Sideways</th>\n",
       "      <th>B_Stance_Southpaw</th>\n",
       "      <th>B_Stance_Switch</th>\n",
       "      <th>R_Stance_Open Stance</th>\n",
       "      <th>R_Stance_Orthodox</th>\n",
       "      <th>R_Stance_Sideways</th>\n",
       "      <th>R_Stance_Southpaw</th>\n",
       "      <th>R_Stance_Switch</th>\n",
       "    </tr>\n",
       "  </thead>\n",
       "  <tbody>\n",
       "    <tr>\n",
       "      <th>0</th>\n",
       "      <td>Red</td>\n",
       "      <td>False</td>\n",
       "      <td>0.000000</td>\n",
       "      <td>0.0</td>\n",
       "      <td>0.420000</td>\n",
       "      <td>0.49500</td>\n",
       "      <td>0.330</td>\n",
       "      <td>0.36000</td>\n",
       "      <td>0.500000</td>\n",
       "      <td>1.000000</td>\n",
       "      <td>...</td>\n",
       "      <td>0</td>\n",
       "      <td>1</td>\n",
       "      <td>0</td>\n",
       "      <td>0</td>\n",
       "      <td>0</td>\n",
       "      <td>0</td>\n",
       "      <td>1</td>\n",
       "      <td>0</td>\n",
       "      <td>0</td>\n",
       "      <td>0</td>\n",
       "    </tr>\n",
       "    <tr>\n",
       "      <th>1</th>\n",
       "      <td>Red</td>\n",
       "      <td>False</td>\n",
       "      <td>0.500000</td>\n",
       "      <td>0.0</td>\n",
       "      <td>0.660000</td>\n",
       "      <td>0.30500</td>\n",
       "      <td>0.300</td>\n",
       "      <td>0.50000</td>\n",
       "      <td>1.500000</td>\n",
       "      <td>0.000000</td>\n",
       "      <td>...</td>\n",
       "      <td>0</td>\n",
       "      <td>1</td>\n",
       "      <td>0</td>\n",
       "      <td>0</td>\n",
       "      <td>0</td>\n",
       "      <td>0</td>\n",
       "      <td>1</td>\n",
       "      <td>0</td>\n",
       "      <td>0</td>\n",
       "      <td>0</td>\n",
       "    </tr>\n",
       "    <tr>\n",
       "      <th>2</th>\n",
       "      <td>Red</td>\n",
       "      <td>False</td>\n",
       "      <td>0.015625</td>\n",
       "      <td>0.0</td>\n",
       "      <td>0.450000</td>\n",
       "      <td>0.42750</td>\n",
       "      <td>0.250</td>\n",
       "      <td>0.20000</td>\n",
       "      <td>0.148468</td>\n",
       "      <td>0.098389</td>\n",
       "      <td>...</td>\n",
       "      <td>0</td>\n",
       "      <td>1</td>\n",
       "      <td>0</td>\n",
       "      <td>0</td>\n",
       "      <td>0</td>\n",
       "      <td>0</td>\n",
       "      <td>0</td>\n",
       "      <td>0</td>\n",
       "      <td>1</td>\n",
       "      <td>0</td>\n",
       "    </tr>\n",
       "    <tr>\n",
       "      <th>3</th>\n",
       "      <td>Blue</td>\n",
       "      <td>False</td>\n",
       "      <td>0.015625</td>\n",
       "      <td>0.0</td>\n",
       "      <td>0.450000</td>\n",
       "      <td>0.42750</td>\n",
       "      <td>0.250</td>\n",
       "      <td>0.20000</td>\n",
       "      <td>0.148468</td>\n",
       "      <td>0.098389</td>\n",
       "      <td>...</td>\n",
       "      <td>0</td>\n",
       "      <td>0</td>\n",
       "      <td>0</td>\n",
       "      <td>1</td>\n",
       "      <td>0</td>\n",
       "      <td>0</td>\n",
       "      <td>0</td>\n",
       "      <td>0</td>\n",
       "      <td>0</td>\n",
       "      <td>1</td>\n",
       "    </tr>\n",
       "    <tr>\n",
       "      <th>4</th>\n",
       "      <td>Blue</td>\n",
       "      <td>False</td>\n",
       "      <td>0.125000</td>\n",
       "      <td>0.0</td>\n",
       "      <td>0.535625</td>\n",
       "      <td>0.57875</td>\n",
       "      <td>0.185</td>\n",
       "      <td>0.16625</td>\n",
       "      <td>0.125000</td>\n",
       "      <td>0.187500</td>\n",
       "      <td>...</td>\n",
       "      <td>0</td>\n",
       "      <td>1</td>\n",
       "      <td>0</td>\n",
       "      <td>0</td>\n",
       "      <td>0</td>\n",
       "      <td>0</td>\n",
       "      <td>1</td>\n",
       "      <td>0</td>\n",
       "      <td>0</td>\n",
       "      <td>0</td>\n",
       "    </tr>\n",
       "  </tbody>\n",
       "</table>\n",
       "<p>5 rows × 160 columns</p>\n",
       "</div>"
      ],
      "text/plain": [
       "  Winner  title_bout  B_avg_KD  B_avg_opp_KD  B_avg_SIG_STR_pct  \\\n",
       "0    Red       False  0.000000           0.0           0.420000   \n",
       "1    Red       False  0.500000           0.0           0.660000   \n",
       "2    Red       False  0.015625           0.0           0.450000   \n",
       "3   Blue       False  0.015625           0.0           0.450000   \n",
       "4   Blue       False  0.125000           0.0           0.535625   \n",
       "\n",
       "   B_avg_opp_SIG_STR_pct  B_avg_TD_pct  B_avg_opp_TD_pct  B_avg_SUB_ATT  \\\n",
       "0                0.49500         0.330           0.36000       0.500000   \n",
       "1                0.30500         0.300           0.50000       1.500000   \n",
       "2                0.42750         0.250           0.20000       0.148468   \n",
       "3                0.42750         0.250           0.20000       0.148468   \n",
       "4                0.57875         0.185           0.16625       0.125000   \n",
       "\n",
       "   B_avg_opp_SUB_ATT  ...  B_Stance_Open Stance  B_Stance_Orthodox  \\\n",
       "0           1.000000  ...                     0                  1   \n",
       "1           0.000000  ...                     0                  1   \n",
       "2           0.098389  ...                     0                  1   \n",
       "3           0.098389  ...                     0                  0   \n",
       "4           0.187500  ...                     0                  1   \n",
       "\n",
       "   B_Stance_Sideways  B_Stance_Southpaw  B_Stance_Switch  \\\n",
       "0                  0                  0                0   \n",
       "1                  0                  0                0   \n",
       "2                  0                  0                0   \n",
       "3                  0                  1                0   \n",
       "4                  0                  0                0   \n",
       "\n",
       "   R_Stance_Open Stance  R_Stance_Orthodox  R_Stance_Sideways  \\\n",
       "0                     0                  1                  0   \n",
       "1                     0                  1                  0   \n",
       "2                     0                  0                  0   \n",
       "3                     0                  0                  0   \n",
       "4                     0                  1                  0   \n",
       "\n",
       "   R_Stance_Southpaw  R_Stance_Switch  \n",
       "0                  0                0  \n",
       "1                  0                0  \n",
       "2                  1                0  \n",
       "3                  0                1  \n",
       "4                  0                0  \n",
       "\n",
       "[5 rows x 160 columns]"
      ]
     },
     "execution_count": 3,
     "metadata": {},
     "output_type": "execute_result"
    }
   ],
   "source": [
    "df.head()"
   ]
  },
  {
   "cell_type": "markdown",
   "metadata": {},
   "source": [
    "### Normalizing data"
   ]
  },
  {
   "cell_type": "code",
   "execution_count": 4,
   "metadata": {},
   "outputs": [],
   "source": [
    "df_num = df.select_dtypes(include=[np.float, np.int])"
   ]
  },
  {
   "cell_type": "code",
   "execution_count": 5,
   "metadata": {},
   "outputs": [],
   "source": [
    "scaler = StandardScaler()\n",
    "\n",
    "df[list(df_num.columns)] = scaler.fit_transform(df[list(df_num.columns)])"
   ]
  },
  {
   "cell_type": "markdown",
   "metadata": {},
   "source": [
    "### Splitting into train, test"
   ]
  },
  {
   "cell_type": "code",
   "execution_count": 6,
   "metadata": {},
   "outputs": [],
   "source": [
    "y = df['Winner']\n",
    "label_encoder = LabelEncoder()\n",
    "label_encoder = label_encoder.fit(y)\n",
    "label_encoded_y = label_encoder.transform(y)\n",
    "\n",
    "X = df.drop(columns = 'Winner')\n",
    "\n",
    "X_train, X_test, y_train, y_test = train_test_split(X, label_encoded_y, test_size=0.1, random_state=41)"
   ]
  },
  {
   "cell_type": "markdown",
   "metadata": {},
   "source": [
    "### Fitting baseline Xgboost"
   ]
  },
  {
   "cell_type": "code",
   "execution_count": 7,
   "metadata": {},
   "outputs": [],
   "source": [
    "def plot_confusion(cm):\n",
    "    ax = sns.heatmap(cm, annot=True, cmap='Blues', fmt='g')\n",
    "    ax.set_title('Seaborn Confusion Matrix with labels\\n\\n');\n",
    "    ax.set_xlabel('\\nPredicted Values')\n",
    "    ax.set_ylabel('Actual Values ');\n",
    "\n",
    "    ## Ticket labels - List must be in alphabetical order\n",
    "    ax.xaxis.set_ticklabels(['False','True'])\n",
    "    ax.yaxis.set_ticklabels(['False','True'])\n",
    "    ax.set_ylim([0,2])\n",
    "\n",
    "    ## Display the visualization of the Confusion Matrix.\n",
    "    ax.invert_yaxis()\n",
    "    plt.show()\n",
    "    "
   ]
  },
  {
   "cell_type": "code",
   "execution_count": 8,
   "metadata": {},
   "outputs": [],
   "source": [
    "def modelfit(alg, X_train, y_train, X_test, y_test, useTrainCV=True, cv_folds=5, early_stopping_rounds=50):\n",
    "    \n",
    "    if useTrainCV:\n",
    "        xgb_param = alg.get_xgb_params()\n",
    "        xgtrain = xgb.DMatrix(X_train, label=y_train)\n",
    "        cvresult = xgb.cv(xgb_param, xgtrain, num_boost_round=alg.get_params()['n_estimators'], nfold=cv_folds,\n",
    "            metrics='auc', early_stopping_rounds=early_stopping_rounds)\n",
    "        alg.set_params(n_estimators=cvresult.shape[0])\n",
    "        print(f\"Best number of estimators = {cvresult.shape[0]}\")\n",
    "    \n",
    "    #Fit the algorithm on the data\n",
    "    alg.fit(np.array(X_train), np.array(y_train), eval_metric='auc')\n",
    "    \n",
    "    #Predict train set:\n",
    "    dtrain_predictions = alg.predict(np.array(X_train))\n",
    "    dtrain_predprob = alg.predict_proba(np.array(X_train))[:,1]\n",
    "        \n",
    "    #Predict test set:\n",
    "    dtest_predictions = alg.predict(np.array(X_test))\n",
    "    dtest_predprob = alg.predict_proba(np.array(X_test))[:,1]\n",
    "        \n",
    "    #Print model report:\n",
    "    print(\"\\nModel Report: \")\n",
    "    print(f\"Accuracy (Test): {accuracy_score(y_test, dtest_predictions):.4f}\")\n",
    "#     print(f\"AUC Score (Train): {roc_auc_score(y_train, dtrain_predprob)}\")\n",
    "    print(f\"AUC Score (Test): {roc_auc_score(y_test, dtest_predprob):.4f}\")\n",
    "    \n",
    "    \n",
    "    return dtest_predictions"
   ]
  },
  {
   "cell_type": "code",
   "execution_count": 9,
   "metadata": {},
   "outputs": [
    {
     "name": "stdout",
     "output_type": "stream",
     "text": [
      "Best number of estimators = 100\n",
      "\n",
      "Model Report: \n",
      "Accuracy (Test): 0.6802\n",
      "AUC Score (Test): 0.7144\n"
     ]
    },
    {
     "data": {
      "image/png": "[encoded data removed]",
      "text/plain": [
       "<Figure size 432x288 with 2 Axes>"
      ]
     },
     "metadata": {
      "needs_background": "light"
     },
     "output_type": "display_data"
    }
   ],
   "source": [
    "model1 = XGBClassifier(random_state=43, n_jobs=-1)\n",
    "\n",
    "y1_preds = modelfit(model1, X_train, y_train, X_test, y_test)\n",
    "\n",
    "cm = confusion_matrix(y_test, y1_preds)\n",
    "\n",
    "plot_confusion(cm)"
   ]
  },
  {
   "cell_type": "code",
   "execution_count": 10,
   "metadata": {},
   "outputs": [
    {
     "data": {
      "text/plain": [
       "[('B_avg_SIG_STR_att', 0.023344433),\n",
       " ('R_avg_opp_DISTANCE_landed', 0.016146472),\n",
       " ('B_avg_DISTANCE_landed', 0.013202856),\n",
       " ('R_win_by_Decision_Split', 0.013020599),\n",
       " ('R_win_by_Decision_Majority', 0.012823383),\n",
       " ('B_win_by_Decision_Unanimous', 0.012211408),\n",
       " ('R_avg_opp_HEAD_landed', 0.011618251),\n",
       " ('weight_class_OpenWeight', 0.011387692),\n",
       " ('B_total_title_bouts', 0.011319535),\n",
       " ('B_avg_opp_DISTANCE_att', 0.010936261),\n",
       " ('weight_class_Featherweight', 0.010793519),\n",
       " ('B_Weight_lbs', 0.010521113),\n",
       " ('R_current_win_streak', 0.010281329),\n",
       " ('R_Weight_lbs', 0.009999626),\n",
       " ('R_Stance_Orthodox', 0.009678324),\n",
       " ('B_current_lose_streak', 0.009228317),\n",
       " ('B_avg_opp_HEAD_landed', 0.008967554),\n",
       " ('R_age', 0.008891735),\n",
       " ('B_Reach_cms', 0.008762539),\n",
       " ('B_avg_GROUND_landed', 0.008555696),\n",
       " ('B_age', 0.008554061),\n",
       " ('B_avg_HEAD_att', 0.008531591),\n",
       " ('B_avg_opp_SIG_STR_landed', 0.008488619),\n",
       " ('title_bout', 0.008259865),\n",
       " ('R_win_by_TKO_Doctor_Stoppage', 0.008237441),\n",
       " ('R_avg_opp_SIG_STR_pct', 0.008072129),\n",
       " ('R_wins', 0.00799575),\n",
       " ('B_avg_opp_TOTAL_STR_landed', 0.0078472225),\n",
       " ('R_avg_SIG_STR_att', 0.00781792),\n",
       " ('B_avg_TD_landed', 0.0077740424),\n",
       " ('B_avg_opp_KD', 0.0076789763),\n",
       " ('R_losses', 0.007644005),\n",
       " ('B_avg_DISTANCE_att', 0.0075639337),\n",
       " ('B_Stance_Southpaw', 0.007502727),\n",
       " ('B_avg_opp_GROUND_att', 0.007498171),\n",
       " ('R_win_by_Decision_Unanimous', 0.007484892),\n",
       " ('R_total_time_fought(seconds)', 0.007361328),\n",
       " ('B_avg_HEAD_landed', 0.007339942),\n",
       " ('weight_class_Flyweight', 0.007307862),\n",
       " ('B_losses', 0.007293692),\n",
       " ('R_avg_opp_TOTAL_STR_landed', 0.0072869565),\n",
       " ('B_avg_CLINCH_landed', 0.007224783),\n",
       " ('weight_class_WomenBantamweight', 0.0071514486),\n",
       " ('B_avg_GROUND_att', 0.007106041),\n",
       " ('R_avg_TOTAL_STR_att', 0.007086353),\n",
       " ('R_win_by_Submission', 0.007012031),\n",
       " ('B_avg_opp_CLINCH_att', 0.0069998973),\n",
       " ('R_avg_REV', 0.0069976496),\n",
       " ('R_avg_KD', 0.0069879224),\n",
       " ('B_avg_opp_SIG_STR_att', 0.006981914),\n",
       " ('R_avg_SIG_STR_landed', 0.006951588),\n",
       " ('R_avg_GROUND_landed', 0.006938209),\n",
       " ('R_avg_opp_GROUND_att', 0.0068913796),\n",
       " ('B_avg_BODY_landed', 0.0068424684),\n",
       " ('B_avg_opp_DISTANCE_landed', 0.006821871),\n",
       " ('R_avg_opp_BODY_att', 0.0067992066),\n",
       " ('B_avg_opp_LEG_att', 0.0067688297),\n",
       " ('B_avg_opp_GROUND_landed', 0.006767289),\n",
       " ('B_avg_TOTAL_STR_att', 0.0067418823),\n",
       " ('B_avg_opp_CLINCH_landed', 0.0067176833),\n",
       " ('B_avg_SUB_ATT', 0.0066760313),\n",
       " ('R_avg_TD_pct', 0.0066596186),\n",
       " ('B_avg_TOTAL_STR_landed', 0.006628615),\n",
       " ('R_avg_opp_KD', 0.006609828),\n",
       " ('B_avg_TD_pct', 0.00659884),\n",
       " ('weight_class_LightHeavyweight', 0.0065951324),\n",
       " ('R_avg_CLINCH_landed', 0.0065317946),\n",
       " ('B_avg_TD_att', 0.0065043992),\n",
       " ('B_Stance_Orthodox', 0.006434844),\n",
       " ('R_total_rounds_fought', 0.0064217537),\n",
       " ('B_avg_opp_TD_pct', 0.0063924384),\n",
       " ('B_wins', 0.0063725915),\n",
       " ('R_avg_LEG_landed', 0.0063536316),\n",
       " ('B_avg_opp_BODY_att', 0.00633961),\n",
       " ('R_avg_DISTANCE_landed', 0.006324961),\n",
       " ('B_total_time_fought(seconds)', 0.00628786),\n",
       " ('R_avg_SUB_ATT', 0.0062560644),\n",
       " ('B_longest_win_streak', 0.0062462054),\n",
       " ('B_avg_opp_HEAD_att', 0.0062385034),\n",
       " ('R_avg_opp_HEAD_att', 0.0062292153),\n",
       " ('R_avg_BODY_att', 0.0062206634),\n",
       " ('B_avg_opp_LEG_landed', 0.0062137158),\n",
       " ('B_avg_LEG_landed', 0.006196373),\n",
       " ('B_win_by_Submission', 0.00617624),\n",
       " ('R_current_lose_streak', 0.006147908),\n",
       " ('B_avg_SIG_STR_landed', 0.006144397),\n",
       " ('B_avg_CLINCH_att', 0.006106281),\n",
       " ('B_avg_opp_SIG_STR_pct', 0.0060857167),\n",
       " ('R_avg_opp_BODY_landed', 0.006085314),\n",
       " ('R_total_title_bouts', 0.0060844873),\n",
       " ('R_avg_TOTAL_STR_landed', 0.006081771),\n",
       " ('R_Height_cms', 0.0060648336),\n",
       " ('R_avg_SIG_STR_pct', 0.0060628),\n",
       " ('R_avg_TD_landed', 0.005971809),\n",
       " ('B_avg_BODY_att', 0.005968249),\n",
       " ('R_avg_opp_CLINCH_att', 0.0059443577),\n",
       " ('R_avg_opp_TD_pct', 0.005930312),\n",
       " ('B_avg_opp_TD_landed', 0.0058747674),\n",
       " ('R_avg_DISTANCE_att', 0.0058690156),\n",
       " ('R_longest_win_streak', 0.0058219484),\n",
       " ('B_avg_opp_SUB_ATT', 0.005808069),\n",
       " ('R_avg_opp_SIG_STR_landed', 0.0057401126),\n",
       " ('R_avg_CLINCH_att', 0.005604234),\n",
       " ('R_Reach_cms', 0.005554754),\n",
       " ('B_avg_LEG_att', 0.0055365656),\n",
       " ('R_avg_opp_LEG_att', 0.00549892),\n",
       " ('R_avg_opp_TOTAL_STR_att', 0.0054678135),\n",
       " ('R_avg_opp_TD_landed', 0.0054649254),\n",
       " ('B_Stance_Switch', 0.005407531),\n",
       " ('B_avg_opp_TOTAL_STR_att', 0.005395059),\n",
       " ('R_avg_opp_CLINCH_landed', 0.0053868843),\n",
       " ('weight_class_Middleweight', 0.005371458),\n",
       " ('B_avg_KD', 0.005362478),\n",
       " ('weight_class_Welterweight', 0.005361825),\n",
       " ('B_total_rounds_fought', 0.0053084157),\n",
       " ('R_avg_LEG_att', 0.0052524987),\n",
       " ('R_avg_opp_TD_att', 0.0052223047),\n",
       " ('B_avg_opp_TD_att', 0.005195565),\n",
       " ('R_avg_opp_CTRL_time(seconds)', 0.005195324),\n",
       " ('R_avg_opp_LEG_landed', 0.0051550106),\n",
       " ('R_avg_TD_att', 0.0051216353),\n",
       " ('R_avg_BODY_landed', 0.005050478),\n",
       " ('B_avg_opp_BODY_landed', 0.005007535),\n",
       " ('R_avg_opp_REV', 0.0049957745),\n",
       " ('R_avg_CTRL_time(seconds)', 0.004967861),\n",
       " ('B_avg_opp_REV', 0.004943779),\n",
       " ('B_avg_CTRL_time(seconds)', 0.004926243),\n",
       " ('B_avg_SIG_STR_pct', 0.0048662275),\n",
       " ('B_current_win_streak', 0.004844644),\n",
       " ('R_avg_GROUND_att', 0.0047917385),\n",
       " ('B_avg_REV', 0.004668933),\n",
       " ('R_avg_HEAD_landed', 0.0045876526),\n",
       " ('R_avg_opp_DISTANCE_att', 0.004573355),\n",
       " ('R_avg_opp_SUB_ATT', 0.004521333),\n",
       " ('R_avg_opp_SIG_STR_att', 0.0045189057),\n",
       " ('R_avg_HEAD_att', 0.0043564728),\n",
       " ('R_Stance_Southpaw', 0.004347643),\n",
       " ('R_avg_opp_GROUND_landed', 0.0042869183),\n",
       " ('B_Height_cms', 0.004247171),\n",
       " ('B_avg_opp_CTRL_time(seconds)', 0.004154631),\n",
       " ('R_Stance_Switch', 0.0040399493),\n",
       " ('B_win_by_Decision_Split', 0.0033755277),\n",
       " ('B_win_by_TKO_Doctor_Stoppage', 0.003183033),\n",
       " ('weight_class_Lightweight', 0.0030160835),\n",
       " ('weight_class_Bantamweight', 0.0028533335),\n",
       " ('B_win_by_KO/TKO', 0.002413846),\n",
       " ('R_win_by_KO/TKO', 0.0022765163),\n",
       " ('B_draw', 0.0),\n",
       " ('B_win_by_Decision_Majority', 0.0),\n",
       " ('R_draw', 0.0),\n",
       " ('weight_class_CatchWeight', 0.0),\n",
       " ('weight_class_Heavyweight', 0.0),\n",
       " ('weight_class_WomenFeatherweight', 0.0),\n",
       " ('weight_class_WomenFlyweight', 0.0),\n",
       " ('weight_class_WomenStrawweight', 0.0),\n",
       " ('B_Stance_Open Stance', 0.0),\n",
       " ('B_Stance_Sideways', 0.0),\n",
       " ('R_Stance_Open Stance', 0.0),\n",
       " ('R_Stance_Sideways', 0.0)]"
      ]
     },
     "execution_count": 10,
     "metadata": {},
     "output_type": "execute_result"
    }
   ],
   "source": [
    "feat_imps = {}\n",
    "for i, imp in enumerate(model1.feature_importances_):\n",
    "    feat_imps[X_train.columns[i]] = imp\n",
    "\n",
    "sorted_imp_feats = (sorted(feat_imps.items(), key = lambda x: x[1], reverse=True))\n",
    "sorted_imp_feats"
   ]
  },
  {
   "cell_type": "markdown",
   "metadata": {},
   "source": [
    "### Since dataset is imbalanced let's try setting scale_pos_weight to see if we get an improvement"
   ]
  },
  {
   "cell_type": "code",
   "execution_count": 11,
   "metadata": {},
   "outputs": [
    {
     "name": "stdout",
     "output_type": "stream",
     "text": [
      "Best number of estimators = 19\n",
      "\n",
      "Model Report: \n",
      "Accuracy (Test): 0.6904\n",
      "AUC Score (Test): 0.7025\n"
     ]
    },
    {
     "data": {
      "image/png": "[encoded data removed]",
      "text/plain": [
       "<Figure size 432x288 with 2 Axes>"
      ]
     },
     "metadata": {
      "needs_background": "light"
     },
     "output_type": "display_data"
    }
   ],
   "source": [
    "model2 = XGBClassifier(random_state=43, n_jobs=-1, scale_pos_weight=0.7)\n",
    "\n",
    "y2_preds = modelfit(model2, X_train, y_train, X_test, y_test)\n",
    "\n",
    "cm = confusion_matrix(y_test, y2_preds)\n",
    "\n",
    "plot_confusion(cm)"
   ]
  },
  {
   "cell_type": "markdown",
   "metadata": {},
   "source": [
    "### Hyperparameter tuning "
   ]
  },
  {
   "cell_type": "code",
   "execution_count": 12,
   "metadata": {},
   "outputs": [
    {
     "name": "stdout",
     "output_type": "stream",
     "text": [
      "Best number of estimators = 76\n",
      "\n",
      "Model Report: \n",
      "Accuracy (Test): 0.6937\n",
      "AUC Score (Test): 0.7137\n"
     ]
    },
    {
     "data": {
      "image/png": "[encoded data removed]",
      "text/plain": [
       "<Figure size 432x288 with 2 Axes>"
      ]
     },
     "metadata": {
      "needs_background": "light"
     },
     "output_type": "display_data"
    }
   ],
   "source": [
    "model3 = XGBClassifier(\n",
    " learning_rate =0.1,\n",
    " n_estimators=1000,\n",
    " max_depth=5,\n",
    " min_child_weight=1,\n",
    " gamma=0,\n",
    " subsample=0.8,\n",
    " colsample_bytree=0.8,\n",
    " objective= 'binary:logistic',\n",
    " nthread=4,\n",
    " scale_pos_weight=0.75,\n",
    ")\n",
    "\n",
    "y3_preds = modelfit(model3, X_train, y_train, X_test, y_test)\n",
    "\n",
    "cm = confusion_matrix(y_test, y3_preds)\n",
    "\n",
    "plot_confusion(cm)"
   ]
  },
  {
   "cell_type": "markdown",
   "metadata": {},
   "source": [
    "### Oversampling"
   ]
  },
  {
   "cell_type": "code",
   "execution_count": 13,
   "metadata": {},
   "outputs": [],
   "source": [
    "from imblearn.over_sampling import ADASYN"
   ]
  },
  {
   "cell_type": "code",
   "execution_count": 14,
   "metadata": {},
   "outputs": [],
   "source": [
    "over_sampler = ADASYN()\n",
    "X_resampled, y_resampled = over_sampler.fit_resample(X_train, y_train)"
   ]
  },
  {
   "cell_type": "code",
   "execution_count": 15,
   "metadata": {},
   "outputs": [
    {
     "data": {
      "text/plain": [
       "1    3580\n",
       "0    3504\n",
       "dtype: int64"
      ]
     },
     "execution_count": 15,
     "metadata": {},
     "output_type": "execute_result"
    }
   ],
   "source": [
    "pd.Series(y_resampled).value_counts()"
   ]
  },
  {
   "cell_type": "code",
   "execution_count": 16,
   "metadata": {},
   "outputs": [
    {
     "name": "stdout",
     "output_type": "stream",
     "text": [
      "Best number of estimators = 100\n",
      "\n",
      "Model Report: \n",
      "Accuracy (Test): 0.6954\n",
      "AUC Score (Test): 0.7096\n"
     ]
    },
    {
     "data": {
      "image/png": "[encoded data removed]",
      "text/plain": [
       "<Figure size 432x288 with 2 Axes>"
      ]
     },
     "metadata": {
      "needs_background": "light"
     },
     "output_type": "display_data"
    }
   ],
   "source": [
    "model4 = XGBClassifier(n_jobs=-1, random_state=43)\n",
    "\n",
    "y4_preds = modelfit(model4, X_resampled, y_resampled, X_test, y_test)\n",
    "\n",
    "cm = confusion_matrix(y_test, y4_preds)\n",
    "\n",
    "plot_confusion(cm)"
   ]
  },
  {
   "cell_type": "markdown",
   "metadata": {},
   "source": [
    "### Hyperparameter tuning for the oversampled data"
   ]
  },
  {
   "cell_type": "code",
   "execution_count": 17,
   "metadata": {
    "scrolled": false
   },
   "outputs": [
    {
     "name": "stdout",
     "output_type": "stream",
     "text": [
      "Best number of estimators = 244\n",
      "\n",
      "Model Report: \n",
      "Accuracy (Test): 0.6904\n",
      "AUC Score (Test): 0.7089\n"
     ]
    },
    {
     "data": {
      "image/png": "[encoded data removed]",
      "text/plain": [
       "<Figure size 432x288 with 2 Axes>"
      ]
     },
     "metadata": {
      "needs_background": "light"
     },
     "output_type": "display_data"
    }
   ],
   "source": [
    "model5 = XGBClassifier(\n",
    " learning_rate =0.1,\n",
    " n_estimators=244,\n",
    " max_depth=5,\n",
    " min_child_weight=1,\n",
    " gamma=0,\n",
    " subsample=0.8,\n",
    " colsample_bytree=0.8,\n",
    " objective= 'binary:logistic',\n",
    " nthread=4,\n",
    " scale_pos_weight=1,\n",
    ")\n",
    "\n",
    "y5_preds = modelfit(model5, X_resampled, y_resampled, X_test, y_test)\n",
    "\n",
    "cm = confusion_matrix(y_test, y5_preds)\n",
    "\n",
    "plot_confusion(cm)"
   ]
  },
  {
   "cell_type": "code",
   "execution_count": 18,
   "metadata": {},
   "outputs": [
    {
     "name": "stdout",
     "output_type": "stream",
     "text": [
      "\n",
      "Model Report: \n",
      "Accuracy (Test): 0.6971\n",
      "AUC Score (Test): 0.7196\n"
     ]
    },
    {
     "data": {
      "image/png": "[encoded data removed]",
      "text/plain": [
       "<Figure size 432x288 with 2 Axes>"
      ]
     },
     "metadata": {
      "needs_background": "light"
     },
     "output_type": "display_data"
    }
   ],
   "source": [
    "model6 = XGBClassifier(learning_rate =0.1, n_estimators=244, max_depth=4,\n",
    "                     min_child_weight=1, gamma=0.1, subsample=0.8, colsample_bytree=0.8,\n",
    "                     objective= 'binary:logistic', reg_alpha= 0, scale_pos_weight=1)\n",
    "\n",
    "y6_preds = modelfit(model6, X_resampled, y_resampled, X_test, y_test, useTrainCV=False)\n",
    "\n",
    "cm = confusion_matrix(y_test, y6_preds)\n",
    "\n",
    "plot_confusion(cm)"
   ]
  },
  {
   "cell_type": "code",
   "execution_count": 19,
   "metadata": {},
   "outputs": [],
   "source": [
    "X_os, y_os = X_resampled, y_resampled = over_sampler.fit_resample(X, label_encoded_y)"
   ]
  },
  {
   "cell_type": "code",
   "execution_count": 20,
   "metadata": {},
   "outputs": [
    {
     "name": "stdout",
     "output_type": "stream",
     "text": [
      "              precision    recall  f1-score   support\n",
      "\n",
      "           0       0.51      0.33      0.40       192\n",
      "           1       0.72      0.85      0.78       399\n",
      "\n",
      "    accuracy                           0.68       591\n",
      "   macro avg       0.62      0.59      0.59       591\n",
      "weighted avg       0.66      0.68      0.66       591\n",
      "\n"
     ]
    }
   ],
   "source": [
    "print(classification_report(y_test, y1_preds))"
   ]
  },
  {
   "cell_type": "code",
   "execution_count": 21,
   "metadata": {},
   "outputs": [
    {
     "name": "stdout",
     "output_type": "stream",
     "text": [
      "              precision    recall  f1-score   support\n",
      "\n",
      "           0       0.53      0.45      0.49       192\n",
      "           1       0.75      0.80      0.78       399\n",
      "\n",
      "    accuracy                           0.69       591\n",
      "   macro avg       0.64      0.63      0.63       591\n",
      "weighted avg       0.68      0.69      0.68       591\n",
      "\n"
     ]
    }
   ],
   "source": [
    "print(classification_report(y_test, y2_preds))"
   ]
  },
  {
   "cell_type": "code",
   "execution_count": 22,
   "metadata": {},
   "outputs": [
    {
     "name": "stdout",
     "output_type": "stream",
     "text": [
      "              precision    recall  f1-score   support\n",
      "\n",
      "           0       0.54      0.39      0.45       192\n",
      "           1       0.74      0.84      0.79       399\n",
      "\n",
      "    accuracy                           0.69       591\n",
      "   macro avg       0.64      0.61      0.62       591\n",
      "weighted avg       0.68      0.69      0.68       591\n",
      "\n"
     ]
    }
   ],
   "source": [
    "print(classification_report(y_test, y3_preds))"
   ]
  },
  {
   "cell_type": "code",
   "execution_count": 23,
   "metadata": {},
   "outputs": [
    {
     "name": "stdout",
     "output_type": "stream",
     "text": [
      "              precision    recall  f1-score   support\n",
      "\n",
      "           0       0.54      0.40      0.46       192\n",
      "           1       0.74      0.84      0.79       399\n",
      "\n",
      "    accuracy                           0.70       591\n",
      "   macro avg       0.64      0.62      0.62       591\n",
      "weighted avg       0.68      0.70      0.68       591\n",
      "\n"
     ]
    }
   ],
   "source": [
    "print(classification_report(y_test, y4_preds))"
   ]
  },
  {
   "cell_type": "code",
   "execution_count": 24,
   "metadata": {},
   "outputs": [
    {
     "name": "stdout",
     "output_type": "stream",
     "text": [
      "              precision    recall  f1-score   support\n",
      "\n",
      "           0       0.53      0.42      0.47       192\n",
      "           1       0.75      0.82      0.78       399\n",
      "\n",
      "    accuracy                           0.69       591\n",
      "   macro avg       0.64      0.62      0.62       591\n",
      "weighted avg       0.68      0.69      0.68       591\n",
      "\n"
     ]
    }
   ],
   "source": [
    "print(classification_report(y_test, y5_preds))"
   ]
  },
  {
   "cell_type": "code",
   "execution_count": 25,
   "metadata": {},
   "outputs": [
    {
     "name": "stdout",
     "output_type": "stream",
     "text": [
      "              precision    recall  f1-score   support\n",
      "\n",
      "           0       0.53      0.42      0.47       192\n",
      "           1       0.75      0.82      0.78       399\n",
      "\n",
      "    accuracy                           0.69       591\n",
      "   macro avg       0.64      0.62      0.62       591\n",
      "weighted avg       0.68      0.69      0.68       591\n",
      "\n"
     ]
    }
   ],
   "source": [
    "print(classification_report(y_test, y5_preds))"
   ]
  },
  {
   "cell_type": "code",
   "execution_count": 26,
   "metadata": {},
   "outputs": [
    {
     "name": "stdout",
     "output_type": "stream",
     "text": [
      "              precision    recall  f1-score   support\n",
      "\n",
      "           0       0.54      0.43      0.48       192\n",
      "           1       0.75      0.82      0.79       399\n",
      "\n",
      "    accuracy                           0.70       591\n",
      "   macro avg       0.65      0.63      0.63       591\n",
      "weighted avg       0.68      0.70      0.69       591\n",
      "\n"
     ]
    }
   ],
   "source": [
    "print(classification_report(y_test, y6_preds))"
   ]
  },
  {
   "cell_type": "code",
   "execution_count": 29,
   "metadata": {},
   "outputs": [
    {
     "data": {
      "text/plain": [
       "XGBClassifier(base_score=0.5, booster='gbtree', colsample_bylevel=1,\n",
       "              colsample_bynode=1, colsample_bytree=0.8, gamma=0.1, gpu_id=-1,\n",
       "              importance_type='gain', interaction_constraints='',\n",
       "              learning_rate=0.1, max_delta_step=0, max_depth=4,\n",
       "              min_child_weight=1, missing=nan, monotone_constraints='()',\n",
       "              n_estimators=244, n_jobs=0, num_parallel_tree=1, random_state=0,\n",
       "              reg_alpha=0, reg_lambda=1, scale_pos_weight=1, subsample=0.8,\n",
       "              tree_method='exact', validate_parameters=1, verbosity=None)"
      ]
     },
     "execution_count": 29,
     "metadata": {},
     "output_type": "execute_result"
    }
   ],
   "source": [
    "model = model6\n",
    "\n",
    "model.fit(np.array(X_os), np.array(y_os))"
   ]
  },
  {
   "cell_type": "code",
   "execution_count": 31,
   "metadata": {},
   "outputs": [],
   "source": [
    "with open('../src/data/model-new.sav', 'wb') as mdl:\n",
    "    pickle.dump(model, mdl)"
   ]
  },
  {
   "cell_type": "code",
   "execution_count": null,
   "metadata": {},
   "outputs": [],
   "source": []
  },
  {
   "cell_type": "code",
   "execution_count": null,
   "metadata": {},
   "outputs": [],
   "source": []
  }
 ],
 "metadata": {
  "kernelspec": {
   "display_name": "Python 3",
   "language": "python",
   "name": "python3"
  },
  "language_info": {
   "codemirror_mode": {
    "name": "ipython",
    "version": 3
   },
   "file_extension": ".py",
   "mimetype": "text/x-python",
   "name": "python",
   "nbconvert_exporter": "python",
   "pygments_lexer": "ipython3",
   "version": "3.7.4"
  }
 },
 "nbformat": 4,
 "nbformat_minor": 2
}

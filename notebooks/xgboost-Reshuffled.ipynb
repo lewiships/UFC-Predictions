{
 "cells": [
  {
   "cell_type": "code",
   "execution_count": 1,
   "metadata": {},
   "outputs": [],
   "source": [
    "import pandas as pd\n",
    "import numpy as np\n",
    "import matplotlib.pyplot as plt\n",
    "import pickle\n",
    "from xgboost import XGBClassifier\n",
    "from sklearn.preprocessing import LabelEncoder\n",
    "import xgboost as xgb\n",
    "from sklearn.model_selection import train_test_split\n",
    "from sklearn.preprocessing import StandardScaler\n",
    "from sklearn.metrics import accuracy_score, classification_report,confusion_matrix, roc_auc_score\n",
    "from sklearn.utils.multiclass import unique_labels\n",
    "from sklearn.model_selection import GridSearchCV, RandomizedSearchCV\n",
    "\n",
    "%matplotlib inline"
   ]
  },
  {
   "cell_type": "code",
   "execution_count": 2,
   "metadata": {},
   "outputs": [],
   "source": "df = pd.read_csv('../src/data/preprocessed_data.csv')"
  },
  {
   "cell_type": "code",
   "execution_count": 3,
   "metadata": {},
   "outputs": [
    {
     "data": {
      "text/html": [
       "<div>\n",
       "<style scoped>\n",
       "    .dataframe tbody tr th:only-of-type {\n",
       "        vertical-align: middle;\n",
       "    }\n",
       "\n",
       "    .dataframe tbody tr th {\n",
       "        vertical-align: top;\n",
       "    }\n",
       "\n",
       "    .dataframe thead th {\n",
       "        text-align: right;\n",
       "    }\n",
       "</style>\n",
       "<table border=\"1\" class=\"dataframe\">\n",
       "  <thead>\n",
       "    <tr style=\"text-align: right;\">\n",
       "      <th></th>\n",
       "      <th>Winner</th>\n",
       "      <th>title_bout</th>\n",
       "      <th>B_avg_KD</th>\n",
       "      <th>B_avg_opp_KD</th>\n",
       "      <th>B_avg_SIG_STR_pct</th>\n",
       "      <th>B_avg_opp_SIG_STR_pct</th>\n",
       "      <th>B_avg_TD_pct</th>\n",
       "      <th>B_avg_opp_TD_pct</th>\n",
       "      <th>B_avg_SUB_ATT</th>\n",
       "      <th>B_avg_opp_SUB_ATT</th>\n",
       "      <th>...</th>\n",
       "      <th>B_Stance_Open Stance</th>\n",
       "      <th>B_Stance_Orthodox</th>\n",
       "      <th>B_Stance_Sideways</th>\n",
       "      <th>B_Stance_Southpaw</th>\n",
       "      <th>B_Stance_Switch</th>\n",
       "      <th>R_Stance_Open Stance</th>\n",
       "      <th>R_Stance_Orthodox</th>\n",
       "      <th>R_Stance_Sideways</th>\n",
       "      <th>R_Stance_Southpaw</th>\n",
       "      <th>R_Stance_Switch</th>\n",
       "    </tr>\n",
       "  </thead>\n",
       "  <tbody>\n",
       "    <tr>\n",
       "      <th>0</th>\n",
       "      <td>Red</td>\n",
       "      <td>False</td>\n",
       "      <td>0.000000</td>\n",
       "      <td>0.0</td>\n",
       "      <td>0.420000</td>\n",
       "      <td>0.49500</td>\n",
       "      <td>0.330</td>\n",
       "      <td>0.36000</td>\n",
       "      <td>0.500000</td>\n",
       "      <td>1.000000</td>\n",
       "      <td>...</td>\n",
       "      <td>0</td>\n",
       "      <td>1</td>\n",
       "      <td>0</td>\n",
       "      <td>0</td>\n",
       "      <td>0</td>\n",
       "      <td>0</td>\n",
       "      <td>1</td>\n",
       "      <td>0</td>\n",
       "      <td>0</td>\n",
       "      <td>0</td>\n",
       "    </tr>\n",
       "    <tr>\n",
       "      <th>1</th>\n",
       "      <td>Red</td>\n",
       "      <td>False</td>\n",
       "      <td>0.500000</td>\n",
       "      <td>0.0</td>\n",
       "      <td>0.660000</td>\n",
       "      <td>0.30500</td>\n",
       "      <td>0.300</td>\n",
       "      <td>0.50000</td>\n",
       "      <td>1.500000</td>\n",
       "      <td>0.000000</td>\n",
       "      <td>...</td>\n",
       "      <td>0</td>\n",
       "      <td>1</td>\n",
       "      <td>0</td>\n",
       "      <td>0</td>\n",
       "      <td>0</td>\n",
       "      <td>0</td>\n",
       "      <td>1</td>\n",
       "      <td>0</td>\n",
       "      <td>0</td>\n",
       "      <td>0</td>\n",
       "    </tr>\n",
       "    <tr>\n",
       "      <th>2</th>\n",
       "      <td>Red</td>\n",
       "      <td>False</td>\n",
       "      <td>0.015625</td>\n",
       "      <td>0.0</td>\n",
       "      <td>0.450000</td>\n",
       "      <td>0.42750</td>\n",
       "      <td>0.250</td>\n",
       "      <td>0.20000</td>\n",
       "      <td>0.148468</td>\n",
       "      <td>0.098389</td>\n",
       "      <td>...</td>\n",
       "      <td>0</td>\n",
       "      <td>1</td>\n",
       "      <td>0</td>\n",
       "      <td>0</td>\n",
       "      <td>0</td>\n",
       "      <td>0</td>\n",
       "      <td>0</td>\n",
       "      <td>0</td>\n",
       "      <td>1</td>\n",
       "      <td>0</td>\n",
       "    </tr>\n",
       "    <tr>\n",
       "      <th>3</th>\n",
       "      <td>Blue</td>\n",
       "      <td>False</td>\n",
       "      <td>0.015625</td>\n",
       "      <td>0.0</td>\n",
       "      <td>0.450000</td>\n",
       "      <td>0.42750</td>\n",
       "      <td>0.250</td>\n",
       "      <td>0.20000</td>\n",
       "      <td>0.148468</td>\n",
       "      <td>0.098389</td>\n",
       "      <td>...</td>\n",
       "      <td>0</td>\n",
       "      <td>0</td>\n",
       "      <td>0</td>\n",
       "      <td>1</td>\n",
       "      <td>0</td>\n",
       "      <td>0</td>\n",
       "      <td>0</td>\n",
       "      <td>0</td>\n",
       "      <td>0</td>\n",
       "      <td>1</td>\n",
       "    </tr>\n",
       "    <tr>\n",
       "      <th>4</th>\n",
       "      <td>Blue</td>\n",
       "      <td>False</td>\n",
       "      <td>0.125000</td>\n",
       "      <td>0.0</td>\n",
       "      <td>0.535625</td>\n",
       "      <td>0.57875</td>\n",
       "      <td>0.185</td>\n",
       "      <td>0.16625</td>\n",
       "      <td>0.125000</td>\n",
       "      <td>0.187500</td>\n",
       "      <td>...</td>\n",
       "      <td>0</td>\n",
       "      <td>1</td>\n",
       "      <td>0</td>\n",
       "      <td>0</td>\n",
       "      <td>0</td>\n",
       "      <td>0</td>\n",
       "      <td>1</td>\n",
       "      <td>0</td>\n",
       "      <td>0</td>\n",
       "      <td>0</td>\n",
       "    </tr>\n",
       "  </tbody>\n",
       "</table>\n",
       "<p>5 rows × 160 columns</p>\n",
       "</div>"
      ],
      "text/plain": [
       "  Winner  title_bout  B_avg_KD  B_avg_opp_KD  B_avg_SIG_STR_pct  \\\n",
       "0    Red       False  0.000000           0.0           0.420000   \n",
       "1    Red       False  0.500000           0.0           0.660000   \n",
       "2    Red       False  0.015625           0.0           0.450000   \n",
       "3   Blue       False  0.015625           0.0           0.450000   \n",
       "4   Blue       False  0.125000           0.0           0.535625   \n",
       "\n",
       "   B_avg_opp_SIG_STR_pct  B_avg_TD_pct  B_avg_opp_TD_pct  B_avg_SUB_ATT  \\\n",
       "0                0.49500         0.330           0.36000       0.500000   \n",
       "1                0.30500         0.300           0.50000       1.500000   \n",
       "2                0.42750         0.250           0.20000       0.148468   \n",
       "3                0.42750         0.250           0.20000       0.148468   \n",
       "4                0.57875         0.185           0.16625       0.125000   \n",
       "\n",
       "   B_avg_opp_SUB_ATT  ...  B_Stance_Open Stance  B_Stance_Orthodox  \\\n",
       "0           1.000000  ...                     0                  1   \n",
       "1           0.000000  ...                     0                  1   \n",
       "2           0.098389  ...                     0                  1   \n",
       "3           0.098389  ...                     0                  0   \n",
       "4           0.187500  ...                     0                  1   \n",
       "\n",
       "   B_Stance_Sideways  B_Stance_Southpaw  B_Stance_Switch  \\\n",
       "0                  0                  0                0   \n",
       "1                  0                  0                0   \n",
       "2                  0                  0                0   \n",
       "3                  0                  1                0   \n",
       "4                  0                  0                0   \n",
       "\n",
       "   R_Stance_Open Stance  R_Stance_Orthodox  R_Stance_Sideways  \\\n",
       "0                     0                  1                  0   \n",
       "1                     0                  1                  0   \n",
       "2                     0                  0                  0   \n",
       "3                     0                  0                  0   \n",
       "4                     0                  1                  0   \n",
       "\n",
       "   R_Stance_Southpaw  R_Stance_Switch  \n",
       "0                  0                0  \n",
       "1                  0                0  \n",
       "2                  1                0  \n",
       "3                  0                1  \n",
       "4                  0                0  \n",
       "\n",
       "[5 rows x 160 columns]"
      ]
     },
     "execution_count": 3,
     "metadata": {},
     "output_type": "execute_result"
    }
   ],
   "source": [
    "df.head()"
   ]
  },
  {
   "cell_type": "markdown",
   "metadata": {},
   "source": [
    "### Normalizing data"
   ]
  },
  {
   "cell_type": "code",
   "execution_count": 4,
   "metadata": {},
   "outputs": [],
   "source": [
    "df_num = df.select_dtypes(include=[np.float, np.int])"
   ]
  },
  {
   "cell_type": "code",
   "execution_count": 5,
   "metadata": {},
   "outputs": [],
   "source": [
    "scaler = StandardScaler()\n",
    "\n",
    "df[list(df_num.columns)] = scaler.fit_transform(df[list(df_num.columns)])"
   ]
  },
  {
   "cell_type": "code",
   "execution_count": 6,
   "metadata": {},
   "outputs": [],
   "source": [
    "with open('../src/data/standard.scaler', 'wb') as f:\n",
    "    pickle.dump(scaler, f)"
   ]
  },
  {
   "cell_type": "markdown",
   "metadata": {},
   "source": [
    "### Making target variable balanced"
   ]
  },
  {
   "cell_type": "code",
   "execution_count": 7,
   "metadata": {},
   "outputs": [
    {
     "data": {
      "text/plain": [
       "Red     3979\n",
       "Blue    1923\n",
       "Name: Winner, dtype: int64"
      ]
     },
     "execution_count": 7,
     "metadata": {},
     "output_type": "execute_result"
    }
   ],
   "source": [
    "df['Winner'].value_counts()"
   ]
  },
  {
   "cell_type": "code",
   "execution_count": 8,
   "metadata": {},
   "outputs": [
    {
     "data": {
      "text/plain": [
       "949.0"
      ]
     },
     "execution_count": 8,
     "metadata": {},
     "output_type": "execute_result"
    }
   ],
   "source": [
    "3515 - ((3515+1617)/2)"
   ]
  },
  {
   "cell_type": "code",
   "execution_count": 9,
   "metadata": {},
   "outputs": [],
   "source": [
    "sample = df[df['Winner']=='Red'].sample(n=949)\n",
    "df.drop(sample.index, inplace=True)"
   ]
  },
  {
   "cell_type": "code",
   "execution_count": 10,
   "metadata": {},
   "outputs": [],
   "source": [
    "rename_cols = {}\n",
    "for column in sample.columns:\n",
    "    if column.startswith('B_'):\n",
    "        rename_cols['B_' + column.split('B_', 1)[1]] = 'R_' + column.split('B_', 1)[1]\n",
    "        rename_cols['R_' + column.split('B_', 1)[1]] = 'B_' + column.split('B_', 1)[1]\n",
    "\n",
    "sample.rename(rename_cols, axis='columns', inplace=True)\n",
    "sample.replace({'Winner': 'Red'}, 'Blue', inplace=True)"
   ]
  },
  {
   "cell_type": "code",
   "execution_count": 11,
   "metadata": {},
   "outputs": [],
   "source": [
    "df = pd.concat([df, sample]).sort_index()"
   ]
  },
  {
   "cell_type": "markdown",
   "metadata": {},
   "source": [
    "### Shuffling data"
   ]
  },
  {
   "cell_type": "code",
   "execution_count": 12,
   "metadata": {},
   "outputs": [],
   "source": [
    "sample1 = df[df['Winner']=='Red'].sample(n=1283)\n",
    "sample2 = df[df['Winner']=='Blue'].sample(n=1283)\n",
    "\n",
    "df.drop(sample1.index, inplace=True)\n",
    "df.drop(sample2.index, inplace=True)"
   ]
  },
  {
   "cell_type": "code",
   "execution_count": 13,
   "metadata": {},
   "outputs": [],
   "source": [
    "rename_cols = {}\n",
    "for column in sample.columns:\n",
    "    if column.startswith('B_'):\n",
    "        rename_cols['B_' + column.split('B_', 1)[1]] = 'R_' + column.split('B_', 1)[1]\n",
    "        rename_cols['R_' + column.split('B_', 1)[1]] = 'B_' + column.split('B_', 1)[1]\n",
    "\n",
    "sample1.rename(rename_cols, axis='columns', inplace=True)\n",
    "sample2.rename(rename_cols, axis='columns', inplace=True)"
   ]
  },
  {
   "cell_type": "code",
   "execution_count": 14,
   "metadata": {},
   "outputs": [],
   "source": [
    "sample1.replace({'Winner': 'Red'}, 'Blue', inplace=True)\n",
    "sample2.replace({'Winner': 'Blue'}, 'Red', inplace=True)"
   ]
  },
  {
   "cell_type": "code",
   "execution_count": 15,
   "metadata": {},
   "outputs": [],
   "source": [
    "df = pd.concat([df, sample1, sample2]).sort_index()"
   ]
  },
  {
   "cell_type": "markdown",
   "metadata": {},
   "source": [
    "### Splitting into train, test"
   ]
  },
  {
   "cell_type": "code",
   "execution_count": 16,
   "metadata": {},
   "outputs": [],
   "source": [
    "y = df['Winner']\n",
    "label_encoder = LabelEncoder()\n",
    "label_encoder = label_encoder.fit(y)\n",
    "label_encoded_y = label_encoder.transform(y)\n",
    "# y_test = label_encoder.transform(Test['Winner'])\n",
    "\n",
    "X = df.drop(columns='Winner')\n",
    "# X_test = Test.drop(columns='Winner')\n",
    "# X_test = X_test[X.columns]\n",
    "\n",
    "X_train, X_valid, y_train, y_valid = train_test_split(X, label_encoded_y, test_size=0.1, random_state=41)"
   ]
  },
  {
   "cell_type": "markdown",
   "metadata": {},
   "source": [
    "### Fitting baseline Xgboost"
   ]
  },
  {
   "cell_type": "code",
   "execution_count": 17,
   "metadata": {},
   "outputs": [],
   "source": [
    "def plot_confusion(cm, classes):\n",
    "    fig, ax = plt.subplots()\n",
    "    im = ax.imshow(cm, interpolation='nearest', cmap=plt.cm.Blues)\n",
    "    ax.figure.colorbar(im, ax=ax)\n",
    "    # We want to show all ticks...\n",
    "    ax.set(xticks=np.arange(cm.shape[1]),\n",
    "           yticks=np.arange(cm.shape[0]),\n",
    "           # ... and label them with the respective list entries\n",
    "           xticklabels=classes, yticklabels=classes,\n",
    "           title='Confusion Matrix',\n",
    "           ylabel='True label',\n",
    "           xlabel='Predicted label')\n",
    "    # Loop over data dimensions and create text annotations.\n",
    "    fmt = 'd'\n",
    "    thresh = cm.max() / 2.\n",
    "    for i in range(cm.shape[0]):\n",
    "        for j in range(cm.shape[1]):\n",
    "            ax.text(j, i, format(cm[i, j], fmt),\n",
    "                    ha=\"center\", va=\"center\",\n",
    "                    color=\"white\" if cm[i, j] > thresh else \"black\")\n",
    "    fig.tight_layout()\n",
    "    return ax"
   ]
  },
  {
   "cell_type": "code",
   "execution_count": 18,
   "metadata": {},
   "outputs": [],
   "source": [
    "def modelfit(alg, X_train, y_train, X_valid, y_valid, X_test=None, y_test=None,\n",
    "             useTrainCV=False, test_set=False, cv_folds=5, early_stopping_rounds=50):\n",
    "    \n",
    "    if useTrainCV:\n",
    "        xgb_param = alg.get_xgb_params()\n",
    "        xgtrain = xgb.DMatrix(X_train, label=y_train)\n",
    "        cvresult = xgb.cv(xgb_param, xgtrain, num_boost_round=alg.get_params()['n_estimators'], nfold=cv_folds,\n",
    "            metrics='auc', early_stopping_rounds=early_stopping_rounds)\n",
    "        alg.set_params(n_estimators=cvresult.shape[0])\n",
    "        print(f\"Best number of estimators = {cvresult.shape[0]}\")\n",
    "    \n",
    "    #Fit the algorithm on the data\n",
    "    alg.fit(np.array(X_train), np.array(y_train), eval_metric='auc')\n",
    "    \n",
    "    #Predict train set:\n",
    "    dtrain_predictions = alg.predict(np.array(X_train))\n",
    "    dtrain_predprob = alg.predict_proba(np.array(X_train))[:,1]\n",
    "        \n",
    "    #Predict valid set:\n",
    "    dvalid_predictions = alg.predict(np.array(X_valid))\n",
    "    dvalid_predprob = alg.predict_proba(np.array(X_valid))[:,1]\n",
    "    \n",
    "    #Predict test set:\n",
    "    dtest_predictions = None\n",
    "    if test_set:\n",
    "        dtest_predictions = alg.predict(np.array(X_test))\n",
    "        dtest_predprob = alg.predict_proba(np.array(X_test))[:,1]\n",
    "        \n",
    "    #Print model report:\n",
    "    print(\"\\nModel Report: \")\n",
    "    if useTrainCV:\n",
    "        print(f\"AUC Score (Train): {roc_auc_score(y_train, dtrain_predprob)}\")\n",
    "    print(f\"Accuracy (valid): {accuracy_score(y_valid, dvalid_predictions):.4f}\")\n",
    "    print(f\"AUC Score (valid): {roc_auc_score(y_valid, dvalid_predprob):.4f}\")\n",
    "    if test_set:\n",
    "        print(f\"Accuracy (Test): {accuracy_score(y_test, dtest_predictions):.4f}\")\n",
    "        print(f\"AUC Score (Test): {roc_auc_score(y_test, dtest_predprob):.4f}\")\n",
    "    \n",
    "    \n",
    "    return dvalid_predictions, dtest_predictions"
   ]
  },
  {
   "cell_type": "code",
   "execution_count": 19,
   "metadata": {},
   "outputs": [
    {
     "name": "stdout",
     "output_type": "stream",
     "text": [
      "\n",
      "Model Report: \n",
      "Accuracy (valid): 0.6904\n",
      "AUC Score (valid): 0.7508\n"
     ]
    },
    {
     "data": {
      "text/plain": [
       "<AxesSubplot:title={'center':'Confusion Matrix'}, xlabel='Predicted label', ylabel='True label'>"
      ]
     },
     "execution_count": 19,
     "metadata": {},
     "output_type": "execute_result"
    },
    {
     "data": {
      "image/png": "[encoded data removed]",
      "text/plain": [
       "<Figure size 432x288 with 2 Axes>"
      ]
     },
     "metadata": {
      "needs_background": "light"
     },
     "output_type": "display_data"
    }
   ],
   "source": [
    "model1 = XGBClassifier(random_state=43, n_jobs=-1)\n",
    "\n",
    "y1_valid_preds, y1_test_preds = modelfit(model1, X_train, y_train, X_valid, y_valid)\n",
    "\n",
    "cm_valid = confusion_matrix(y_valid, y1_valid_preds)\n",
    "# cm_test = confusion_matrix(y_test, y1_test_preds)\n",
    "classes = unique_labels(y_valid, y1_valid_preds)\n",
    "\n",
    "plot_confusion(cm_valid, classes)"
   ]
  },
  {
   "cell_type": "code",
   "execution_count": 20,
   "metadata": {},
   "outputs": [
    {
     "data": {
      "text/plain": [
       "[('R_Stance_Sideways', 0.44911972),\n",
       " ('B_Stance_Sideways', 0.23029105),\n",
       " ('R_Stance_Open Stance', 0.021247476),\n",
       " ('R_win_by_Decision_Split', 0.014716374),\n",
       " ('weight_class_WomenBantamweight', 0.006160083),\n",
       " ('weight_class_Featherweight', 0.0051968284),\n",
       " ('R_avg_opp_DISTANCE_landed', 0.0036314942),\n",
       " ('R_avg_opp_HEAD_landed', 0.0030312405),\n",
       " ('B_avg_opp_BODY_att', 0.003018484),\n",
       " ('B_age', 0.0029906249),\n",
       " ('R_current_win_streak', 0.0029140632),\n",
       " ('R_avg_TD_landed', 0.0029059728),\n",
       " ('R_total_title_bouts', 0.0028427492),\n",
       " ('B_avg_DISTANCE_landed', 0.0028068009),\n",
       " ('B_avg_SIG_STR_att', 0.0027899633),\n",
       " ('R_avg_opp_SIG_STR_landed', 0.0027859928),\n",
       " ('B_win_by_Decision_Unanimous', 0.0026963982),\n",
       " ('R_avg_GROUND_att', 0.002689718),\n",
       " ('B_win_by_Decision_Split', 0.0026361907),\n",
       " ('B_avg_TD_landed', 0.002619606),\n",
       " ('weight_class_Bantamweight', 0.0025814753),\n",
       " ('B_avg_opp_CTRL_time(seconds)', 0.0025766979),\n",
       " ('R_avg_DISTANCE_att', 0.0025753279),\n",
       " ('B_avg_opp_SIG_STR_att', 0.0025604614),\n",
       " ('R_avg_HEAD_landed', 0.0025333008),\n",
       " ('B_avg_opp_KD', 0.002527256),\n",
       " ('R_avg_BODY_att', 0.0025055963),\n",
       " ('R_longest_win_streak', 0.0024700735),\n",
       " ('weight_class_Lightweight', 0.0024685052),\n",
       " ('B_avg_opp_DISTANCE_att', 0.0024165222),\n",
       " ('B_Stance_Orthodox', 0.0024060416),\n",
       " ('R_Weight_lbs', 0.0023956825),\n",
       " ('B_Stance_Open Stance', 0.0023696094),\n",
       " ('R_avg_opp_SIG_STR_pct', 0.002345331),\n",
       " ('B_avg_BODY_landed', 0.0023016944),\n",
       " ('R_avg_TOTAL_STR_landed', 0.0022881066),\n",
       " ('B_wins', 0.0022755126),\n",
       " ('B_Reach_cms', 0.0022585737),\n",
       " ('B_avg_opp_CLINCH_att', 0.0022584656),\n",
       " ('R_avg_TD_pct', 0.0022572333),\n",
       " ('B_avg_TOTAL_STR_att', 0.0022516926),\n",
       " ('B_avg_opp_TOTAL_STR_att', 0.00219067),\n",
       " ('R_avg_TD_att', 0.0021883377),\n",
       " ('B_avg_TD_pct', 0.0021795558),\n",
       " ('B_total_rounds_fought', 0.0021685609),\n",
       " ('R_avg_opp_SIG_STR_att', 0.0021618968),\n",
       " ('R_age', 0.0021466617),\n",
       " ('R_avg_GROUND_landed', 0.002136918),\n",
       " ('B_avg_TD_att', 0.0021367057),\n",
       " ('R_avg_SIG_STR_att', 0.0021224758),\n",
       " ('R_win_by_Submission', 0.0021126904),\n",
       " ('B_avg_BODY_att', 0.0021057832),\n",
       " ('R_avg_SIG_STR_landed', 0.0020992921),\n",
       " ('B_avg_opp_DISTANCE_landed', 0.0020863223),\n",
       " ('R_total_time_fought(seconds)', 0.0020841416),\n",
       " ('R_avg_opp_LEG_landed', 0.002079796),\n",
       " ('B_avg_KD', 0.002078195),\n",
       " ('R_avg_CTRL_time(seconds)', 0.0020780042),\n",
       " ('R_avg_CLINCH_landed', 0.0020762896),\n",
       " ('R_avg_opp_CTRL_time(seconds)', 0.0020435124),\n",
       " ('R_win_by_Decision_Unanimous', 0.0020432132),\n",
       " ('B_avg_opp_HEAD_att', 0.002026419),\n",
       " ('B_avg_opp_LEG_landed', 0.0020141292),\n",
       " ('R_Reach_cms', 0.0020074982),\n",
       " ('B_avg_opp_REV', 0.002001838),\n",
       " ('B_avg_opp_SIG_STR_landed', 0.0020003647),\n",
       " ('B_avg_opp_TOTAL_STR_landed', 0.0019996685),\n",
       " ('R_losses', 0.0019948448),\n",
       " ('B_avg_opp_TD_att', 0.001961732),\n",
       " ('B_avg_opp_BODY_landed', 0.001960465),\n",
       " ('R_avg_opp_CLINCH_att', 0.0019588633),\n",
       " ('R_avg_opp_TD_pct', 0.0019550412),\n",
       " ('B_avg_opp_TD_pct', 0.0019486994),\n",
       " ('R_avg_DISTANCE_landed', 0.0019466584),\n",
       " ('R_avg_opp_HEAD_att', 0.0019348396),\n",
       " ('B_avg_SIG_STR_pct', 0.0019289039),\n",
       " ('R_avg_SIG_STR_pct', 0.0019282292),\n",
       " ('R_avg_opp_GROUND_att', 0.0019081006),\n",
       " ('R_avg_KD', 0.001900465),\n",
       " ('B_avg_opp_SUB_ATT', 0.0018996253),\n",
       " ('B_avg_LEG_landed', 0.001877689),\n",
       " ('R_avg_HEAD_att', 0.0018683235),\n",
       " ('R_avg_opp_GROUND_landed', 0.0018655553),\n",
       " ('R_avg_opp_TD_att', 0.001846183),\n",
       " ('R_avg_opp_BODY_att', 0.0018428025),\n",
       " ('B_Weight_lbs', 0.0018235635),\n",
       " ('R_avg_LEG_landed', 0.0018075992),\n",
       " ('B_avg_TOTAL_STR_landed', 0.0017794422),\n",
       " ('B_avg_HEAD_landed', 0.0017357001),\n",
       " ('B_avg_opp_SIG_STR_pct', 0.0017349457),\n",
       " ('B_total_time_fought(seconds)', 0.0017334435),\n",
       " ('B_avg_opp_HEAD_landed', 0.0017308076),\n",
       " ('B_total_title_bouts', 0.0017014235),\n",
       " ('R_avg_opp_LEG_att', 0.0016868042),\n",
       " ('R_avg_LEG_att', 0.0016803924),\n",
       " ('R_avg_CLINCH_att', 0.0016793247),\n",
       " ('R_wins', 0.001670907),\n",
       " ('B_avg_LEG_att', 0.0016474677),\n",
       " ('B_avg_CLINCH_att', 0.0016354941),\n",
       " ('R_avg_opp_SUB_ATT', 0.0016333878),\n",
       " ('R_total_rounds_fought', 0.0016311326),\n",
       " ('B_avg_opp_GROUND_att', 0.0016271485),\n",
       " ('B_win_by_KO/TKO', 0.0016222676),\n",
       " ('R_avg_REV', 0.0016106201),\n",
       " ('B_avg_REV', 0.0016098792),\n",
       " ('R_avg_opp_KD', 0.0016090745),\n",
       " ('B_avg_opp_LEG_att', 0.0016086339),\n",
       " ('R_avg_BODY_landed', 0.0016056768),\n",
       " ('B_avg_SUB_ATT', 0.0015985848),\n",
       " ('B_avg_SIG_STR_landed', 0.0015851443),\n",
       " ('B_avg_GROUND_landed', 0.0015742392),\n",
       " ('R_Height_cms', 0.0015736588),\n",
       " ('R_avg_opp_BODY_landed', 0.0015690356),\n",
       " ('B_avg_DISTANCE_att', 0.0015630968),\n",
       " ('R_avg_opp_TOTAL_STR_landed', 0.0015615445),\n",
       " ('B_avg_opp_GROUND_landed', 0.0015574857),\n",
       " ('B_current_win_streak', 0.0015556242),\n",
       " ('R_avg_SUB_ATT', 0.0015416789),\n",
       " ('R_avg_opp_TOTAL_STR_att', 0.0015262873),\n",
       " ('B_avg_CLINCH_landed', 0.0015228468),\n",
       " ('B_Stance_Southpaw', 0.0015199884),\n",
       " ('B_Height_cms', 0.0014905736),\n",
       " ('R_current_lose_streak', 0.001480982),\n",
       " ('B_avg_opp_CLINCH_landed', 0.001472609),\n",
       " ('R_avg_TOTAL_STR_att', 0.0014667159),\n",
       " ('B_losses', 0.0014594065),\n",
       " ('R_Stance_Orthodox', 0.001431343),\n",
       " ('B_avg_GROUND_att', 0.0013976078),\n",
       " ('B_avg_opp_TD_landed', 0.0013892448),\n",
       " ('R_avg_opp_REV', 0.0013718928),\n",
       " ('B_avg_HEAD_att', 0.001364447),\n",
       " ('B_avg_CTRL_time(seconds)', 0.001331722),\n",
       " ('R_avg_opp_DISTANCE_att', 0.0013267127),\n",
       " ('weight_class_OpenWeight', 0.0013086739),\n",
       " ('B_win_by_TKO_Doctor_Stoppage', 0.0012976538),\n",
       " ('R_avg_opp_TD_landed', 0.0012916684),\n",
       " ('B_longest_win_streak', 0.0012694095),\n",
       " ('R_Stance_Southpaw', 0.001223353),\n",
       " ('R_win_by_KO/TKO', 0.0012131757),\n",
       " ('R_avg_opp_CLINCH_landed', 0.0011578967),\n",
       " ('B_win_by_Submission', 0.0011467248),\n",
       " ('B_Stance_Switch', 0.001111297),\n",
       " ('B_win_by_Decision_Majority', 0.0010626887),\n",
       " ('title_bout', 0.0010620083),\n",
       " ('weight_class_WomenFlyweight', 0.00090666173),\n",
       " ('B_current_lose_streak', 0.00087475136),\n",
       " ('weight_class_Middleweight', 0.00068117795),\n",
       " ('R_Stance_Switch', 0.00059679645),\n",
       " ('R_win_by_Decision_Majority', 0.0004999191),\n",
       " ('R_win_by_TKO_Doctor_Stoppage', 0.00043045703),\n",
       " ('weight_class_Welterweight', 0.00041813703),\n",
       " ('B_draw', 0.0),\n",
       " ('R_draw', 0.0),\n",
       " ('weight_class_CatchWeight', 0.0),\n",
       " ('weight_class_Flyweight', 0.0),\n",
       " ('weight_class_Heavyweight', 0.0),\n",
       " ('weight_class_LightHeavyweight', 0.0),\n",
       " ('weight_class_WomenFeatherweight', 0.0),\n",
       " ('weight_class_WomenStrawweight', 0.0)]"
      ]
     },
     "execution_count": 20,
     "metadata": {},
     "output_type": "execute_result"
    }
   ],
   "source": [
    "feat_imps = {}\n",
    "for i, imp in enumerate(model1.feature_importances_):\n",
    "    feat_imps[X_train.columns[i]] = imp\n",
    "\n",
    "sorted_imp_feats = (sorted(feat_imps.items(), key = lambda x: x[1], reverse=True))\n",
    "sorted_imp_feats"
   ]
  },
  {
   "cell_type": "markdown",
   "metadata": {},
   "source": [
    "### Hyperparameter tuning "
   ]
  },
  {
   "cell_type": "code",
   "execution_count": 21,
   "metadata": {},
   "outputs": [
    {
     "name": "stdout",
     "output_type": "stream",
     "text": [
      "\n",
      "Model Report: \n",
      "Accuracy (valid): 0.7022\n",
      "AUC Score (valid): 0.7734\n"
     ]
    },
    {
     "data": {
      "text/plain": [
       "<AxesSubplot:title={'center':'Confusion Matrix'}, xlabel='Predicted label', ylabel='True label'>"
      ]
     },
     "execution_count": 21,
     "metadata": {},
     "output_type": "execute_result"
    },
    {
     "data": {
      "image/png": "[encoded data removed]",
      "text/plain": [
       "<Figure size 432x288 with 2 Axes>"
      ]
     },
     "metadata": {
      "needs_background": "light"
     },
     "output_type": "display_data"
    }
   ],
   "source": [
    "model3 = XGBClassifier(\n",
    " learning_rate =0.1,\n",
    " n_estimators=1000,\n",
    " max_depth=5,\n",
    " min_child_weight=1,\n",
    " gamma=0,\n",
    " subsample=0.8,\n",
    " colsample_bytree=0.8,\n",
    " objective= 'binary:logistic',\n",
    " nthread=4\n",
    "#  scale_pos_weight=0.5,\n",
    ")\n",
    "\n",
    "y3_valid_preds, y3_test_preds = modelfit(model3, X_train, y_train, X_valid, y_valid)\n",
    "\n",
    "cm_valid = confusion_matrix(y_valid, y3_valid_preds)\n",
    "# cm_test = confusion_matrix(y_test, y3_test_preds)\n",
    "classes = unique_labels(y_valid, y3_valid_preds)\n",
    "\n",
    "plot_confusion(cm_valid, classes)"
   ]
  },
  {
   "cell_type": "code",
   "execution_count": 22,
   "metadata": {
    "scrolled": false
   },
   "outputs": [
    {
     "name": "stdout",
     "output_type": "stream",
     "text": [
      "\n",
      "Model Report: \n",
      "Accuracy (valid): 0.6836\n",
      "AUC Score (valid): 0.7604\n"
     ]
    },
    {
     "data": {
      "text/plain": [
       "<AxesSubplot:title={'center':'Confusion Matrix'}, xlabel='Predicted label', ylabel='True label'>"
      ]
     },
     "execution_count": 22,
     "metadata": {},
     "output_type": "execute_result"
    },
    {
     "data": {
      "image/png": "[encoded data removed]",
      "text/plain": [
       "<Figure size 432x288 with 2 Axes>"
      ]
     },
     "metadata": {
      "needs_background": "light"
     },
     "output_type": "display_data"
    }
   ],
   "source": [
    "model5 = XGBClassifier(\n",
    " learning_rate =0.1,\n",
    " n_estimators=120,\n",
    " max_depth=3,\n",
    " min_child_weight=1,\n",
    " gamma=0.3,\n",
    " subsample=1,\n",
    " colsample_bytree=1,\n",
    " objective= 'binary:logistic',\n",
    " nthread=4,\n",
    " scale_pos_weight=1,\n",
    ")\n",
    "\n",
    "y5_valid_preds, y5_test_preds = modelfit(model5, X_train, y_train, X_valid, y_valid)\n",
    "\n",
    "cm_valid = confusion_matrix(y_valid, y5_valid_preds)\n",
    "# cm_test = confusion_matrix(y_test, y5_test_preds)\n",
    "classes = unique_labels(y_valid, y5_valid_preds)\n",
    "\n",
    "plot_confusion(cm_valid, classes)"
   ]
  },
  {
   "cell_type": "code",
   "execution_count": 23,
   "metadata": {},
   "outputs": [
    {
     "name": "stdout",
     "output_type": "stream",
     "text": [
      "              precision    recall  f1-score   support\n",
      "\n",
      "           0       0.69      0.68      0.69       295\n",
      "           1       0.69      0.70      0.69       296\n",
      "\n",
      "    accuracy                           0.69       591\n",
      "   macro avg       0.69      0.69      0.69       591\n",
      "weighted avg       0.69      0.69      0.69       591\n",
      "\n"
     ]
    }
   ],
   "source": [
    "print(classification_report(y_valid, y1_valid_preds))"
   ]
  },
  {
   "cell_type": "code",
   "execution_count": 24,
   "metadata": {},
   "outputs": [
    {
     "name": "stdout",
     "output_type": "stream",
     "text": [
      "              precision    recall  f1-score   support\n",
      "\n",
      "           0       0.70      0.71      0.70       295\n",
      "           1       0.71      0.69      0.70       296\n",
      "\n",
      "    accuracy                           0.70       591\n",
      "   macro avg       0.70      0.70      0.70       591\n",
      "weighted avg       0.70      0.70      0.70       591\n",
      "\n"
     ]
    }
   ],
   "source": [
    "print(classification_report(y_valid, y3_valid_preds))"
   ]
  },
  {
   "cell_type": "code",
   "execution_count": 25,
   "metadata": {},
   "outputs": [
    {
     "name": "stdout",
     "output_type": "stream",
     "text": [
      "              precision    recall  f1-score   support\n",
      "\n",
      "           0       0.69      0.67      0.68       295\n",
      "           1       0.68      0.69      0.69       296\n",
      "\n",
      "    accuracy                           0.68       591\n",
      "   macro avg       0.68      0.68      0.68       591\n",
      "weighted avg       0.68      0.68      0.68       591\n",
      "\n"
     ]
    }
   ],
   "source": [
    "print(classification_report(y_valid, y5_valid_preds))"
   ]
  },
  {
   "cell_type": "code",
   "execution_count": 26,
   "metadata": {},
   "outputs": [
    {
     "data": {
      "text/plain": [
       "XGBClassifier(base_score=0.5, booster=None, colsample_bylevel=1,\n",
       "              colsample_bynode=1, colsample_bytree=0.8, gamma=0, gpu_id=-1,\n",
       "              importance_type='gain', interaction_constraints=None,\n",
       "              learning_rate=0.1, max_delta_step=0, max_depth=5,\n",
       "              min_child_weight=1, missing=nan, monotone_constraints=None,\n",
       "              n_estimators=1000, n_jobs=4, nthread=4, num_parallel_tree=1,\n",
       "              random_state=0, reg_alpha=0, reg_lambda=1, scale_pos_weight=1,\n",
       "              subsample=0.8, tree_method=None, validate_parameters=False,\n",
       "              verbosity=None)"
      ]
     },
     "execution_count": 26,
     "metadata": {},
     "output_type": "execute_result"
    }
   ],
   "source": [
    "model = model3\n",
    "\n",
    "model.fit(np.array(X), np.array(label_encoded_y))"
   ]
  },
  {
   "cell_type": "code",
   "execution_count": 27,
   "metadata": {},
   "outputs": [],
   "source": [
    "with open('../src/data/model.sav', 'wb') as f:\n",
    "    pickle.dump(model, f)"
   ]
  },
  {
   "cell_type": "code",
   "execution_count": 28,
   "metadata": {},
   "outputs": [],
   "source": [
    "with open('../src/data/model.sav', 'rb') as f:\n",
    "    mdl = pickle.load(f)"
   ]
  },
  {
   "cell_type": "code",
   "execution_count": 29,
   "metadata": {},
   "outputs": [
    {
     "data": {
      "text/plain": [
       "array([1, 0, 1, 0, 1, 0, 0, 0, 0, 1, 1, 1, 0, 0, 1, 1, 0, 1, 1, 1, 0, 1,\n",
       "       1, 0, 1, 1, 1, 0, 1, 1, 0, 0, 1, 1, 0, 0, 0, 0, 0, 0])"
      ]
     },
     "execution_count": 29,
     "metadata": {},
     "output_type": "execute_result"
    }
   ],
   "source": [
    "mdl.predict(np.array(X[:40]))"
   ]
  },
  {
   "cell_type": "code",
   "execution_count": null,
   "metadata": {},
   "outputs": [],
   "source": []
  }
 ],
 "metadata": {
  "kernelspec": {
   "display_name": "Python 3",
   "language": "python",
   "name": "python3"
  },
  "language_info": {
   "codemirror_mode": {
    "name": "ipython",
    "version": 3
   },
   "file_extension": ".py",
   "mimetype": "text/x-python",
   "name": "python",
   "nbconvert_exporter": "python",
   "pygments_lexer": "ipython3",
   "version": "3.8.2"
  }
 },
 "nbformat": 4,
 "nbformat_minor": 2
}
